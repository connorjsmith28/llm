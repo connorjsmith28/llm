{
 "cells": [
  {
   "cell_type": "code",
   "outputs": [],
   "source": [
    "from duckduckgo_search import DDGS\n",
    "from ollama import chat\n",
    "import json\n",
    "import re"
   ],
   "metadata": {
    "collapsed": false,
    "ExecuteTime": {
     "end_time": "2025-03-29T02:53:40.787260Z",
     "start_time": "2025-03-29T02:53:40.785037Z"
    }
   },
   "id": "a3d1cbee5c3011d6",
   "execution_count": 8
  },
  {
   "cell_type": "markdown",
   "source": [
    "## Create Local AI Agents"
   ],
   "metadata": {
    "collapsed": false
   },
   "id": "d07508552e5949f8"
  },
  {
   "cell_type": "code",
   "outputs": [],
   "source": [
    "OLLAMA_SERVER_URL = 'http://localhost:11434'"
   ],
   "metadata": {
    "collapsed": false,
    "ExecuteTime": {
     "end_time": "2025-03-29T02:53:40.794841600Z",
     "start_time": "2025-03-29T02:53:40.787260Z"
    }
   },
   "id": "3c469c7ad8262441",
   "execution_count": 9
  },
  {
   "cell_type": "code",
   "outputs": [],
   "source": [
    "class Agent:\n",
    "    def __init__(self, system=\"\"):\n",
    "        self.system = system\n",
    "        self.messages = []\n",
    "        if self.system:\n",
    "            self.messages.append({\"role\": \"system\", \"content\": system})\n",
    "\n",
    "    def __call__(self, message):\n",
    "        self.messages.append({\"role\": \"user\", \"content\": message})\n",
    "        result = self.execute()\n",
    "        self.messages.append({\"role\": \"assistant\", \"content\": result})\n",
    "        return result\n",
    "\n",
    "    def execute(self):\n",
    "        completion = chat('gemma2:27b', messages=self.messages)\n",
    "        return completion.message.content"
   ],
   "metadata": {
    "collapsed": false,
    "ExecuteTime": {
     "end_time": "2025-03-29T02:53:40.811531100Z",
     "start_time": "2025-03-29T02:53:40.789900Z"
    }
   },
   "id": "471b46090d29ce61",
   "execution_count": 10
  },
  {
   "cell_type": "code",
   "outputs": [],
   "source": [
    "movie_title = 'The Lord of the Rings '"
   ],
   "metadata": {
    "collapsed": false,
    "ExecuteTime": {
     "end_time": "2025-03-29T02:53:40.812530300Z",
     "start_time": "2025-03-29T02:53:40.793169700Z"
    }
   },
   "id": "bfd700242e5d2ec4",
   "execution_count": 11
  },
  {
   "cell_type": "code",
   "outputs": [],
   "source": [
    "imbd_string = 'site:https:amazon.com' #this forces duckduckgo to initiate the search from the imbd website"
   ],
   "metadata": {
    "collapsed": false,
    "ExecuteTime": {
     "end_time": "2025-03-29T02:53:40.812530300Z",
     "start_time": "2025-03-29T02:53:40.795846100Z"
    }
   },
   "id": "6552850956d1d03f",
   "execution_count": 12
  },
  {
   "cell_type": "code",
   "outputs": [],
   "source": [
    "movie_search_string = movie_title + imbd_string"
   ],
   "metadata": {
    "collapsed": false,
    "ExecuteTime": {
     "end_time": "2025-03-29T02:53:40.812530300Z",
     "start_time": "2025-03-29T02:53:40.798148700Z"
    }
   },
   "id": "dc11cba8935ac94c",
   "execution_count": 13
  },
  {
   "cell_type": "code",
   "outputs": [
    {
     "ename": "DuckDuckGoSearchException",
     "evalue": "https://html.duckduckgo.com/html 202 Ratelimit",
     "output_type": "error",
     "traceback": [
      "\u001B[1;31m---------------------------------------------------------------------------\u001B[0m",
      "\u001B[1;31mDuckDuckGoSearchException\u001B[0m                 Traceback (most recent call last)",
      "Cell \u001B[1;32mIn[14], line 1\u001B[0m\n\u001B[1;32m----> 1\u001B[0m results \u001B[38;5;241m=\u001B[39m \u001B[43mDDGS\u001B[49m\u001B[43m(\u001B[49m\u001B[43m)\u001B[49m\u001B[38;5;241;43m.\u001B[39;49m\u001B[43mtext\u001B[49m\u001B[43m(\u001B[49m\u001B[43mmovie_search_string\u001B[49m\u001B[43m,\u001B[49m\u001B[43m \u001B[49m\u001B[43msafesearch\u001B[49m\u001B[38;5;241;43m=\u001B[39;49m\u001B[38;5;124;43m'\u001B[39;49m\u001B[38;5;124;43mon\u001B[39;49m\u001B[38;5;124;43m'\u001B[39;49m\u001B[43m,\u001B[49m\u001B[43m \u001B[49m\u001B[43mtimelimit\u001B[49m\u001B[38;5;241;43m=\u001B[39;49m\u001B[38;5;124;43m'\u001B[39;49m\u001B[38;5;124;43my\u001B[39;49m\u001B[38;5;124;43m'\u001B[39;49m\u001B[43m,\u001B[49m\u001B[43m \u001B[49m\u001B[43mmax_results\u001B[49m\u001B[38;5;241;43m=\u001B[39;49m\u001B[38;5;241;43m1\u001B[39;49m\u001B[43m)\u001B[49m\n",
      "File \u001B[1;32m~\\AppData\\Local\\Programs\\Python\\Lib\\site-packages\\duckduckgo_search\\duckduckgo_search.py:314\u001B[0m, in \u001B[0;36mDDGS.text\u001B[1;34m(self, keywords, region, safesearch, timelimit, backend, max_results)\u001B[0m\n\u001B[0;32m    311\u001B[0m         logger\u001B[38;5;241m.\u001B[39minfo(\u001B[38;5;124mf\u001B[39m\u001B[38;5;124m\"\u001B[39m\u001B[38;5;124mError to search using \u001B[39m\u001B[38;5;132;01m{\u001B[39;00mb\u001B[38;5;132;01m}\u001B[39;00m\u001B[38;5;124m backend: \u001B[39m\u001B[38;5;132;01m{\u001B[39;00mex\u001B[38;5;132;01m}\u001B[39;00m\u001B[38;5;124m\"\u001B[39m)\n\u001B[0;32m    312\u001B[0m         err \u001B[38;5;241m=\u001B[39m ex\n\u001B[1;32m--> 314\u001B[0m \u001B[38;5;28;01mraise\u001B[39;00m DuckDuckGoSearchException(err)\n",
      "\u001B[1;31mDuckDuckGoSearchException\u001B[0m: https://html.duckduckgo.com/html 202 Ratelimit"
     ]
    }
   ],
   "source": [
    "results = DDGS().text(movie_search_string, safesearch='on', timelimit='y', max_results=1)"
   ],
   "metadata": {
    "collapsed": false,
    "ExecuteTime": {
     "end_time": "2025-03-29T02:53:41.921550800Z",
     "start_time": "2025-03-29T02:53:40.800531700Z"
    }
   },
   "id": "f0ecd8a10b14e499",
   "execution_count": 14
  },
  {
   "cell_type": "code",
   "outputs": [],
   "source": [
    "results"
   ],
   "metadata": {
    "collapsed": false,
    "ExecuteTime": {
     "start_time": "2025-03-29T02:53:41.918551800Z"
    }
   },
   "id": "6e9ff613056728a3",
   "execution_count": null
  },
  {
   "cell_type": "code",
   "outputs": [],
   "source": [],
   "metadata": {
    "collapsed": false,
    "ExecuteTime": {
     "start_time": "2025-03-29T02:53:41.918551800Z"
    }
   },
   "id": "a11efc5e6148500c"
  }
 ],
 "metadata": {
  "kernelspec": {
   "display_name": "Python 3",
   "language": "python",
   "name": "python3"
  },
  "language_info": {
   "codemirror_mode": {
    "name": "ipython",
    "version": 2
   },
   "file_extension": ".py",
   "mimetype": "text/x-python",
   "name": "python",
   "nbconvert_exporter": "python",
   "pygments_lexer": "ipython2",
   "version": "2.7.6"
  }
 },
 "nbformat": 4,
 "nbformat_minor": 5
}
